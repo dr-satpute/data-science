{
 "cells": [
  {
   "cell_type": "markdown",
   "id": "3966125c-fc63-40dd-84da-d93c59c0176f",
   "metadata": {},
   "source": [
    "#  Data Science Tools and Ecosystem"
   ]
  },
  {
   "cell_type": "markdown",
   "id": "f8b17971-4d58-4e24-966c-1cca29819129",
   "metadata": {},
   "source": [
    "In this notebook, Data Science Tools and Ecosystem are summarized."
   ]
  },
  {
   "cell_type": "markdown",
   "id": "2cd9d413-6bab-4ae8-9470-b8e96e3e335b",
   "metadata": {},
   "source": [
    "**Objectives** \n",
    "   \n",
    "- To List popular Data Science languages\n",
    "- To List popular Data Science Libraries\n",
    "- To List popular Data Science Tools"
   ]
  },
  {
   "cell_type": "markdown",
   "id": "d81cb34a-d5f8-4735-b474-cac53b1ded15",
   "metadata": {},
   "source": [
    "Some of the popular languages that Data Scientists use are:\n",
    "1. Python\n",
    "2. Java\n",
    "3. C programming\n",
    "4. C ++\n",
    "5. PHP"
   ]
  },
  {
   "cell_type": "markdown",
   "id": "0803b608-8ef9-4471-81c9-ca75687600e5",
   "metadata": {},
   "source": [
    "Some of the commonly used libraries used by Data Scientists include:\n",
    "1. Pandas\n",
    "2. Numpy\n",
    "3. Matplotlib\n",
    "4. sklearn\n",
    "5. tensorflow\n"
   ]
  },
  {
   "cell_type": "markdown",
   "id": "3d1a3871-ad33-4a01-b52c-a0de5d6c82d9",
   "metadata": {},
   "source": [
    "\n",
    "\n",
    "| Data Science Tools     |\n",
    "|----------------|\n",
    "| Pandas |\n",
    "| Numpy |\n",
    "| Matplotlib |\n",
    "| SKlearn |\n",
    "| Tensorflow |"
   ]
  },
  {
   "cell_type": "markdown",
   "id": "755899bb-5d3f-4b36-9994-bd507a57e59b",
   "metadata": {},
   "source": [
    "### Below are a few examples of evaluating arithmetic expressions in Python"
   ]
  },
  {
   "cell_type": "code",
   "execution_count": 14,
   "id": "5a623d5f-e0fe-40d9-a53d-aeff23eceb5e",
   "metadata": {},
   "outputs": [
    {
     "data": {
      "text/plain": [
       "17"
      ]
     },
     "execution_count": 14,
     "metadata": {},
     "output_type": "execute_result"
    }
   ],
   "source": [
    "#This a simple arithmetic expression to mutiply then add integers\n",
    "(3*4)+5"
   ]
  },
  {
   "cell_type": "code",
   "execution_count": 16,
   "id": "6461002f-6f36-4201-afd1-2a719c1d0832",
   "metadata": {},
   "outputs": [
    {
     "data": {
      "text/plain": [
       "3.3333333333333335"
      ]
     },
     "execution_count": 16,
     "metadata": {},
     "output_type": "execute_result"
    }
   ],
   "source": [
    "#This will convert 200 minutes to hours by diving by 60\n",
    "200/60"
   ]
  },
  {
   "cell_type": "markdown",
   "id": "6f873a65-2d9c-4729-bbba-48955e98c784",
   "metadata": {},
   "source": [
    "## Author\n",
    "Dr. Babasaheb Satpute"
   ]
  },
  {
   "cell_type": "code",
   "execution_count": null,
   "id": "9adc24f2-9f85-425f-9e36-dade626459d3",
   "metadata": {},
   "outputs": [],
   "source": []
  }
 ],
 "metadata": {
  "kernelspec": {
   "display_name": "Python [conda env:dr_satpute]",
   "language": "python",
   "name": "conda-env-dr_satpute-py"
  },
  "language_info": {
   "codemirror_mode": {
    "name": "ipython",
    "version": 3
   },
   "file_extension": ".py",
   "mimetype": "text/x-python",
   "name": "python",
   "nbconvert_exporter": "python",
   "pygments_lexer": "ipython3",
   "version": "3.12.8"
  }
 },
 "nbformat": 4,
 "nbformat_minor": 5
}
